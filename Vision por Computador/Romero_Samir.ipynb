{
 "cells": [
  {
   "cell_type": "code",
   "execution_count": 7,
   "metadata": {
    "collapsed": true,
    "ExecuteTime": {
     "end_time": "2023-11-05T19:49:22.658555900Z",
     "start_time": "2023-11-05T19:46:26.174298300Z"
    }
   },
   "outputs": [
    {
     "name": "stdout",
     "output_type": "stream",
     "text": [
      "Kernel 4:\n",
      "Kernel 5:\n",
      "Kernel 6:\n"
     ]
    }
   ],
   "source": [
    "import cv2\n",
    "import numpy as np\n",
    "\n",
    "img = cv2.imread('img/gatito.JPG')\n",
    "\n",
    "# Definir los 10 diferentes kernels (filtros)\n",
    "\n",
    "kernel4 = np.array([[-1, -1, -1], [-1, 9, -1], [-1, -1, -1]])  #Reteñir bordes\n",
    "kernel5 = np.array([[-1, -1, -1], [-1, 8, -1], [-1, -1, -1]])  #Detección de Bordes\n",
    "kernel6 = np.array([[0, -1, 0], [-1, 4, -1], [0, -1, 0]])  #Laplaciano detalles finos y bordes\n",
    "\n",
    "\n",
    "# Función para aplicar un filtro y mostrar la imagen resultante\n",
    "def aplicar_filtro_y_mostrar(imagen, kernel, nombre_filtro):\n",
    "    imagen_filtrada = cv2.filter2D(src=imagen, ddepth=-1, kernel=kernel)\n",
    "    print(f'{nombre_filtro}:')\n",
    "    cv2.imshow('Imagen', imagen_filtrada)\n",
    "    cv2.imshow('Original', img)\n",
    "    cv2.waitKey(0)\n",
    "    cv2.destroyAllWindows()\n",
    "\n",
    "\n",
    "# Secuencia 1 (Tamaños de kernel estándar)\n",
    "for nombre, kernel in [(\"Kernel 4\", kernel4), (\"Kernel 5\", kernel5), (\"Kernel 6\", kernel6)]:\n",
    "    aplicar_filtro_y_mostrar(img, kernel, nombre)\n"
   ]
  },
  {
   "cell_type": "code",
   "execution_count": null,
   "outputs": [],
   "source": [],
   "metadata": {
    "collapsed": false
   }
  }
 ],
 "metadata": {
  "kernelspec": {
   "display_name": "Python 3",
   "language": "python",
   "name": "python3"
  },
  "language_info": {
   "codemirror_mode": {
    "name": "ipython",
    "version": 2
   },
   "file_extension": ".py",
   "mimetype": "text/x-python",
   "name": "python",
   "nbconvert_exporter": "python",
   "pygments_lexer": "ipython2",
   "version": "2.7.6"
  }
 },
 "nbformat": 4,
 "nbformat_minor": 0
}
